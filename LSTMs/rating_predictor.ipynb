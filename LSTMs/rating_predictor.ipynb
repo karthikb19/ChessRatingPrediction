{
  "nbformat": 4,
  "nbformat_minor": 0,
  "metadata": {
    "colab": {
      "name": "rating_predictor.ipynb",
      "provenance": []
    },
    "kernelspec": {
      "name": "python3",
      "display_name": "Python 3"
    },
    "accelerator": "GPU"
  },
  "cells": [
    {
      "cell_type": "code",
      "metadata": {
        "id": "g9Ajpu4Qyf9Y",
        "colab_type": "code",
        "colab": {}
      },
      "source": [
        "from google.colab import drive"
      ],
      "execution_count": 1,
      "outputs": []
    },
    {
      "cell_type": "code",
      "metadata": {
        "id": "-YJ0f9x4ymB4",
        "colab_type": "code",
        "colab": {
          "base_uri": "https://localhost:8080/",
          "height": 122
        },
        "outputId": "9aa335ae-2ead-408f-ea4b-6fcbe96c59b8"
      },
      "source": [
        "from google.colab import drive\n",
        "drive.mount('/content/drive')"
      ],
      "execution_count": 1,
      "outputs": [
        {
          "output_type": "stream",
          "text": [
            "Go to this URL in a browser: https://accounts.google.com/o/oauth2/auth?client_id=947318989803-6bn6qk8qdgf4n4g3pfee6491hc0brc4i.apps.googleusercontent.com&redirect_uri=urn%3aietf%3awg%3aoauth%3a2.0%3aoob&scope=email%20https%3a%2f%2fwww.googleapis.com%2fauth%2fdocs.test%20https%3a%2f%2fwww.googleapis.com%2fauth%2fdrive%20https%3a%2f%2fwww.googleapis.com%2fauth%2fdrive.photos.readonly%20https%3a%2f%2fwww.googleapis.com%2fauth%2fpeopleapi.readonly&response_type=code\n",
            "\n",
            "Enter your authorization code:\n",
            "··········\n",
            "Mounted at /content/drive\n"
          ],
          "name": "stdout"
        }
      ]
    },
    {
      "cell_type": "code",
      "metadata": {
        "id": "sjLJvZlGy62y",
        "colab_type": "code",
        "colab": {
          "base_uri": "https://localhost:8080/",
          "height": 34
        },
        "outputId": "b07bfcb5-f5a4-4b53-e8d5-5040ba7534ee"
      },
      "source": [
        "%cd \"drive/My Drive/Rating Prediction\""
      ],
      "execution_count": 2,
      "outputs": [
        {
          "output_type": "stream",
          "text": [
            "/content/drive/My Drive/Rating Prediction\n"
          ],
          "name": "stdout"
        }
      ]
    },
    {
      "cell_type": "code",
      "metadata": {
        "id": "zQaNhX3zzDL0",
        "colab_type": "code",
        "colab": {
          "base_uri": "https://localhost:8080/",
          "height": 34
        },
        "outputId": "2e642dbe-54ce-4921-a790-f14aa58ed08a"
      },
      "source": [
        "!ls"
      ],
      "execution_count": 3,
      "outputs": [
        {
          "output_type": "stream",
          "text": [
            "14056673.csv  rating_predictor.ipynb\n"
          ],
          "name": "stdout"
        }
      ]
    },
    {
      "cell_type": "code",
      "metadata": {
        "id": "j1r_z2UszsxW",
        "colab_type": "code",
        "colab": {}
      },
      "source": [
        "import pandas as pd\n",
        "import numpy as np\n",
        "import matplotlib.pyplot as plt\n",
        "\n",
        "df = pd.read_csv(\"14056673.csv\")\n"
      ],
      "execution_count": 4,
      "outputs": []
    },
    {
      "cell_type": "code",
      "metadata": {
        "id": "4_WSqGkTz0rg",
        "colab_type": "code",
        "colab": {
          "base_uri": "https://localhost:8080/",
          "height": 204
        },
        "outputId": "48c561b4-9095-4f1b-ab25-d0386be294d6"
      },
      "source": [
        "df.tail()"
      ],
      "execution_count": 6,
      "outputs": [
        {
          "output_type": "execute_result",
          "data": {
            "text/html": [
              "<div>\n",
              "<style scoped>\n",
              "    .dataframe tbody tr th:only-of-type {\n",
              "        vertical-align: middle;\n",
              "    }\n",
              "\n",
              "    .dataframe tbody tr th {\n",
              "        vertical-align: top;\n",
              "    }\n",
              "\n",
              "    .dataframe thead th {\n",
              "        text-align: right;\n",
              "    }\n",
              "</style>\n",
              "<table border=\"1\" class=\"dataframe\">\n",
              "  <thead>\n",
              "    <tr style=\"text-align: right;\">\n",
              "      <th></th>\n",
              "      <th>Unnamed: 0</th>\n",
              "      <th>Date</th>\n",
              "      <th>Rating</th>\n",
              "    </tr>\n",
              "  </thead>\n",
              "  <tbody>\n",
              "    <tr>\n",
              "      <th>468</th>\n",
              "      <td>500</td>\n",
              "      <td>2008-12-21</td>\n",
              "      <td>631</td>\n",
              "    </tr>\n",
              "    <tr>\n",
              "      <th>469</th>\n",
              "      <td>501</td>\n",
              "      <td>2008-12-14</td>\n",
              "      <td>538</td>\n",
              "    </tr>\n",
              "    <tr>\n",
              "      <th>470</th>\n",
              "      <td>502</td>\n",
              "      <td>2008-12-06</td>\n",
              "      <td>549</td>\n",
              "    </tr>\n",
              "    <tr>\n",
              "      <th>471</th>\n",
              "      <td>503</td>\n",
              "      <td>2008-11-30</td>\n",
              "      <td>476</td>\n",
              "    </tr>\n",
              "    <tr>\n",
              "      <th>472</th>\n",
              "      <td>504</td>\n",
              "      <td>2008-11-23</td>\n",
              "      <td>493</td>\n",
              "    </tr>\n",
              "  </tbody>\n",
              "</table>\n",
              "</div>"
            ],
            "text/plain": [
              "     Unnamed: 0        Date  Rating\n",
              "468         500  2008-12-21     631\n",
              "469         501  2008-12-14     538\n",
              "470         502  2008-12-06     549\n",
              "471         503  2008-11-30     476\n",
              "472         504  2008-11-23     493"
            ]
          },
          "metadata": {
            "tags": []
          },
          "execution_count": 6
        }
      ]
    },
    {
      "cell_type": "code",
      "metadata": {
        "id": "kGqgqeBzz2QG",
        "colab_type": "code",
        "colab": {
          "base_uri": "https://localhost:8080/",
          "height": 419
        },
        "outputId": "d2d04186-f6f8-4774-c531-651356e536f5"
      },
      "source": [
        "df.reset_index()"
      ],
      "execution_count": 7,
      "outputs": [
        {
          "output_type": "execute_result",
          "data": {
            "text/html": [
              "<div>\n",
              "<style scoped>\n",
              "    .dataframe tbody tr th:only-of-type {\n",
              "        vertical-align: middle;\n",
              "    }\n",
              "\n",
              "    .dataframe tbody tr th {\n",
              "        vertical-align: top;\n",
              "    }\n",
              "\n",
              "    .dataframe thead th {\n",
              "        text-align: right;\n",
              "    }\n",
              "</style>\n",
              "<table border=\"1\" class=\"dataframe\">\n",
              "  <thead>\n",
              "    <tr style=\"text-align: right;\">\n",
              "      <th></th>\n",
              "      <th>index</th>\n",
              "      <th>Unnamed: 0</th>\n",
              "      <th>Date</th>\n",
              "      <th>Rating</th>\n",
              "    </tr>\n",
              "  </thead>\n",
              "  <tbody>\n",
              "    <tr>\n",
              "      <th>0</th>\n",
              "      <td>0</td>\n",
              "      <td>0</td>\n",
              "      <td>2020-07-26</td>\n",
              "      <td>2583</td>\n",
              "    </tr>\n",
              "    <tr>\n",
              "      <th>1</th>\n",
              "      <td>1</td>\n",
              "      <td>11</td>\n",
              "      <td>2020-03-08</td>\n",
              "      <td>2612</td>\n",
              "    </tr>\n",
              "    <tr>\n",
              "      <th>2</th>\n",
              "      <td>2</td>\n",
              "      <td>13</td>\n",
              "      <td>2020-02-23</td>\n",
              "      <td>2611</td>\n",
              "    </tr>\n",
              "    <tr>\n",
              "      <th>3</th>\n",
              "      <td>3</td>\n",
              "      <td>14</td>\n",
              "      <td>2020-02-09</td>\n",
              "      <td>2592</td>\n",
              "    </tr>\n",
              "    <tr>\n",
              "      <th>4</th>\n",
              "      <td>4</td>\n",
              "      <td>15</td>\n",
              "      <td>2020-01-25</td>\n",
              "      <td>2569</td>\n",
              "    </tr>\n",
              "    <tr>\n",
              "      <th>...</th>\n",
              "      <td>...</td>\n",
              "      <td>...</td>\n",
              "      <td>...</td>\n",
              "      <td>...</td>\n",
              "    </tr>\n",
              "    <tr>\n",
              "      <th>468</th>\n",
              "      <td>468</td>\n",
              "      <td>500</td>\n",
              "      <td>2008-12-21</td>\n",
              "      <td>631</td>\n",
              "    </tr>\n",
              "    <tr>\n",
              "      <th>469</th>\n",
              "      <td>469</td>\n",
              "      <td>501</td>\n",
              "      <td>2008-12-14</td>\n",
              "      <td>538</td>\n",
              "    </tr>\n",
              "    <tr>\n",
              "      <th>470</th>\n",
              "      <td>470</td>\n",
              "      <td>502</td>\n",
              "      <td>2008-12-06</td>\n",
              "      <td>549</td>\n",
              "    </tr>\n",
              "    <tr>\n",
              "      <th>471</th>\n",
              "      <td>471</td>\n",
              "      <td>503</td>\n",
              "      <td>2008-11-30</td>\n",
              "      <td>476</td>\n",
              "    </tr>\n",
              "    <tr>\n",
              "      <th>472</th>\n",
              "      <td>472</td>\n",
              "      <td>504</td>\n",
              "      <td>2008-11-23</td>\n",
              "      <td>493</td>\n",
              "    </tr>\n",
              "  </tbody>\n",
              "</table>\n",
              "<p>473 rows × 4 columns</p>\n",
              "</div>"
            ],
            "text/plain": [
              "     index  Unnamed: 0        Date  Rating\n",
              "0        0           0  2020-07-26    2583\n",
              "1        1          11  2020-03-08    2612\n",
              "2        2          13  2020-02-23    2611\n",
              "3        3          14  2020-02-09    2592\n",
              "4        4          15  2020-01-25    2569\n",
              "..     ...         ...         ...     ...\n",
              "468    468         500  2008-12-21     631\n",
              "469    469         501  2008-12-14     538\n",
              "470    470         502  2008-12-06     549\n",
              "471    471         503  2008-11-30     476\n",
              "472    472         504  2008-11-23     493\n",
              "\n",
              "[473 rows x 4 columns]"
            ]
          },
          "metadata": {
            "tags": []
          },
          "execution_count": 7
        }
      ]
    },
    {
      "cell_type": "code",
      "metadata": {
        "id": "iGgvFOxe0h9y",
        "colab_type": "code",
        "colab": {}
      },
      "source": [
        "df1 = df.reset_index()['Rating']\n",
        "df1 = df1[::-1]\n",
        "df1 = df1.reset_index()['Rating']"
      ],
      "execution_count": 19,
      "outputs": []
    },
    {
      "cell_type": "code",
      "metadata": {
        "id": "MVPpKuXO0LNX",
        "colab_type": "code",
        "colab": {
          "base_uri": "https://localhost:8080/",
          "height": 34
        },
        "outputId": "bf322726-dd4c-4d4f-8ccd-1763ef7ce97d"
      },
      "source": [
        "df1.shape"
      ],
      "execution_count": 20,
      "outputs": [
        {
          "output_type": "execute_result",
          "data": {
            "text/plain": [
              "(473,)"
            ]
          },
          "metadata": {
            "tags": []
          },
          "execution_count": 20
        }
      ]
    },
    {
      "cell_type": "code",
      "metadata": {
        "id": "ECXTvpK81NPV",
        "colab_type": "code",
        "colab": {
          "base_uri": "https://localhost:8080/",
          "height": 119
        },
        "outputId": "55ff1712-f43f-4177-9d88-c4480a0ee544"
      },
      "source": [
        "df1.head()"
      ],
      "execution_count": 21,
      "outputs": [
        {
          "output_type": "execute_result",
          "data": {
            "text/plain": [
              "0    493\n",
              "1    476\n",
              "2    549\n",
              "3    538\n",
              "4    631\n",
              "Name: Rating, dtype: int64"
            ]
          },
          "metadata": {
            "tags": []
          },
          "execution_count": 21
        }
      ]
    },
    {
      "cell_type": "code",
      "metadata": {
        "id": "_gFU_rz00Ms-",
        "colab_type": "code",
        "colab": {
          "base_uri": "https://localhost:8080/",
          "height": 282
        },
        "outputId": "fee17838-c695-4866-b18d-fd8b2aeed675"
      },
      "source": [
        "import matplotlib.pyplot as plt\n",
        "plt.plot(df1)"
      ],
      "execution_count": 22,
      "outputs": [
        {
          "output_type": "execute_result",
          "data": {
            "text/plain": [
              "[<matplotlib.lines.Line2D at 0x7f892b0622b0>]"
            ]
          },
          "metadata": {
            "tags": []
          },
          "execution_count": 22
        },
        {
          "output_type": "display_data",
          "data": {
            "image/png": "[encoded data removed]",
            "text/plain": [
              "<Figure size 432x288 with 1 Axes>"
            ]
          },
          "metadata": {
            "tags": [],
            "needs_background": "light"
          }
        }
      ]
    },
    {
      "cell_type": "code",
      "metadata": {
        "id": "jsf0GvQS0SYG",
        "colab_type": "code",
        "colab": {}
      },
      "source": [
        "from sklearn.preprocessing import MinMaxScaler\n",
        "\n",
        "scaler = MinMaxScaler(feature_range=(0, 1))\n",
        "df1 = scaler.fit_transform(np.array(df1).reshape(-1, 1))"
      ],
      "execution_count": 23,
      "outputs": []
    },
    {
      "cell_type": "code",
      "metadata": {
        "id": "FvOyN9m81zp4",
        "colab_type": "code",
        "colab": {
          "base_uri": "https://localhost:8080/",
          "height": 1000
        },
        "outputId": "b9f6dad5-90d2-471d-b613-a7a15d115f8b"
      },
      "source": [
        "df1"
      ],
      "execution_count": 24,
      "outputs": [
        {
          "output_type": "execute_result",
          "data": {
            "text/plain": [
              "array([[0.0079588 ],\n",
              "       [0.        ],\n",
              "       [0.03417603],\n",
              "       [0.02902622],\n",
              "       [0.07256554],\n",
              "       [0.10720974],\n",
              "       [0.12219101],\n",
              "       [0.13389513],\n",
              "       [0.1409176 ],\n",
              "       [0.14279026],\n",
              "       [0.15402622],\n",
              "       [0.2420412 ],\n",
              "       [0.24438202],\n",
              "       [0.26076779],\n",
              "       [0.22846442],\n",
              "       [0.22565543],\n",
              "       [0.21769663],\n",
              "       [0.2167603 ],\n",
              "       [0.26076779],\n",
              "       [0.25514981],\n",
              "       [0.29962547],\n",
              "       [0.26685393],\n",
              "       [0.24531835],\n",
              "       [0.29213483],\n",
              "       [0.28183521],\n",
              "       [0.31413858],\n",
              "       [0.29728464],\n",
              "       [0.32116105],\n",
              "       [0.39513109],\n",
              "       [0.40074906],\n",
              "       [0.3988764 ],\n",
              "       [0.41104869],\n",
              "       [0.39185393],\n",
              "       [0.36844569],\n",
              "       [0.33707865],\n",
              "       [0.34550562],\n",
              "       [0.34456929],\n",
              "       [0.39700375],\n",
              "       [0.36844569],\n",
              "       [0.36750936],\n",
              "       [0.36797753],\n",
              "       [0.38249064],\n",
              "       [0.40636704],\n",
              "       [0.4002809 ],\n",
              "       [0.37827715],\n",
              "       [0.38014981],\n",
              "       [0.42602996],\n",
              "       [0.41994382],\n",
              "       [0.4082397 ],\n",
              "       [0.40917603],\n",
              "       [0.40870787],\n",
              "       [0.40636704],\n",
              "       [0.43117978],\n",
              "       [0.46348315],\n",
              "       [0.45131086],\n",
              "       [0.47799625],\n",
              "       [0.49531835],\n",
              "       [0.49391386],\n",
              "       [0.47705993],\n",
              "       [0.48080524],\n",
              "       [0.48548689],\n",
              "       [0.46395131],\n",
              "       [0.48127341],\n",
              "       [0.47050562],\n",
              "       [0.47003745],\n",
              "       [0.47893258],\n",
              "       [0.49578652],\n",
              "       [0.49906367],\n",
              "       [0.53370787],\n",
              "       [0.52106742],\n",
              "       [0.51544944],\n",
              "       [0.50655431],\n",
              "       [0.49672285],\n",
              "       [0.52481273],\n",
              "       [0.52855805],\n",
              "       [0.53838951],\n",
              "       [0.53651685],\n",
              "       [0.53885768],\n",
              "       [0.54868914],\n",
              "       [0.55290262],\n",
              "       [0.54728464],\n",
              "       [0.53277154],\n",
              "       [0.54634831],\n",
              "       [0.55337079],\n",
              "       [0.56320225],\n",
              "       [0.5571161 ],\n",
              "       [0.55664794],\n",
              "       [0.55617978],\n",
              "       [0.55617978],\n",
              "       [0.55383895],\n",
              "       [0.5491573 ],\n",
              "       [0.54400749],\n",
              "       [0.58005618],\n",
              "       [0.58146067],\n",
              "       [0.56975655],\n",
              "       [0.54822097],\n",
              "       [0.54494382],\n",
              "       [0.55430712],\n",
              "       [0.54634831],\n",
              "       [0.54447566],\n",
              "       [0.54213483],\n",
              "       [0.53745318],\n",
              "       [0.57303371],\n",
              "       [0.57631086],\n",
              "       [0.58146067],\n",
              "       [0.59410112],\n",
              "       [0.62078652],\n",
              "       [0.61423221],\n",
              "       [0.61985019],\n",
              "       [0.61657303],\n",
              "       [0.625     ],\n",
              "       [0.61938202],\n",
              "       [0.59691011],\n",
              "       [0.58848315],\n",
              "       [0.58099251],\n",
              "       [0.59550562],\n",
              "       [0.59410112],\n",
              "       [0.58941948],\n",
              "       [0.58286517],\n",
              "       [0.58520599],\n",
              "       [0.58286517],\n",
              "       [0.57677903],\n",
              "       [0.58754682],\n",
              "       [0.5917603 ],\n",
              "       [0.58941948],\n",
              "       [0.57069288],\n",
              "       [0.58192884],\n",
              "       [0.58520599],\n",
              "       [0.58848315],\n",
              "       [0.59878277],\n",
              "       [0.6011236 ],\n",
              "       [0.60346442],\n",
              "       [0.60533708],\n",
              "       [0.61329588],\n",
              "       [0.61470037],\n",
              "       [0.61750936],\n",
              "       [0.61329588],\n",
              "       [0.61423221],\n",
              "       [0.61470037],\n",
              "       [0.62265918],\n",
              "       [0.62546816],\n",
              "       [0.62734082],\n",
              "       [0.62968165],\n",
              "       [0.63155431],\n",
              "       [0.62265918],\n",
              "       [0.61844569],\n",
              "       [0.62359551],\n",
              "       [0.63904494],\n",
              "       [0.63951311],\n",
              "       [0.64279026],\n",
              "       [0.64372659],\n",
              "       [0.64559925],\n",
              "       [0.6423221 ],\n",
              "       [0.63202247],\n",
              "       [0.62734082],\n",
              "       [0.62593633],\n",
              "       [0.62172285],\n",
              "       [0.63061798],\n",
              "       [0.62968165],\n",
              "       [0.62687266],\n",
              "       [0.65308989],\n",
              "       [0.66385768],\n",
              "       [0.66432584],\n",
              "       [0.66947566],\n",
              "       [0.66198502],\n",
              "       [0.66526217],\n",
              "       [0.66666667],\n",
              "       [0.67509363],\n",
              "       [0.66994382],\n",
              "       [0.68305243],\n",
              "       [0.68492509],\n",
              "       [0.67275281],\n",
              "       [0.66573034],\n",
              "       [0.67088015],\n",
              "       [0.66853933],\n",
              "       [0.67649813],\n",
              "       [0.6821161 ],\n",
              "       [0.67790262],\n",
              "       [0.68164794],\n",
              "       [0.67790262],\n",
              "       [0.67883895],\n",
              "       [0.6821161 ],\n",
              "       [0.67837079],\n",
              "       [0.67509363],\n",
              "       [0.67602996],\n",
              "       [0.68445693],\n",
              "       [0.68773408],\n",
              "       [0.69522472],\n",
              "       [0.68679775],\n",
              "       [0.68913858],\n",
              "       [0.68164794],\n",
              "       [0.69662921],\n",
              "       [0.69756554],\n",
              "       [0.68305243],\n",
              "       [0.68867041],\n",
              "       [0.68773408],\n",
              "       [0.68586142],\n",
              "       [0.68679775],\n",
              "       [0.67088015],\n",
              "       [0.67743446],\n",
              "       [0.67696629],\n",
              "       [0.67930712],\n",
              "       [0.69382022],\n",
              "       [0.69335206],\n",
              "       [0.70318352],\n",
              "       [0.70131086],\n",
              "       [0.70411985],\n",
              "       [0.71207865],\n",
              "       [0.70926966],\n",
              "       [0.72050562],\n",
              "       [0.71020599],\n",
              "       [0.71067416],\n",
              "       [0.71395131],\n",
              "       [0.71956929],\n",
              "       [0.72191011],\n",
              "       [0.71207865],\n",
              "       [0.70692884],\n",
              "       [0.70973783],\n",
              "       [0.71395131],\n",
              "       [0.71582397],\n",
              "       [0.7167603 ],\n",
              "       [0.71769663],\n",
              "       [0.71816479],\n",
              "       [0.70973783],\n",
              "       [0.69897004],\n",
              "       [0.6994382 ],\n",
              "       [0.72050562],\n",
              "       [0.72144195],\n",
              "       [0.72565543],\n",
              "       [0.72705993],\n",
              "       [0.72799625],\n",
              "       [0.72705993],\n",
              "       [0.73127341],\n",
              "       [0.7261236 ],\n",
              "       [0.72705993],\n",
              "       [0.72518727],\n",
              "       [0.7261236 ],\n",
              "       [0.72799625],\n",
              "       [0.71629213],\n",
              "       [0.7088015 ],\n",
              "       [0.70786517],\n",
              "       [0.70271536],\n",
              "       [0.70411985],\n",
              "       [0.70037453],\n",
              "       [0.70177903],\n",
              "       [0.70411985],\n",
              "       [0.71161049],\n",
              "       [0.70692884],\n",
              "       [0.70599251],\n",
              "       [0.70271536],\n",
              "       [0.69475655],\n",
              "       [0.69662921],\n",
              "       [0.69335206],\n",
              "       [0.70552434],\n",
              "       [0.70505618],\n",
              "       [0.71301498],\n",
              "       [0.71441948],\n",
              "       [0.7326779 ],\n",
              "       [0.72940075],\n",
              "       [0.73361423],\n",
              "       [0.73548689],\n",
              "       [0.73361423],\n",
              "       [0.7326779 ],\n",
              "       [0.73501873],\n",
              "       [0.73642322],\n",
              "       [0.73735955],\n",
              "       [0.75702247],\n",
              "       [0.7593633 ],\n",
              "       [0.75983146],\n",
              "       [0.76264045],\n",
              "       [0.76123596],\n",
              "       [0.74906367],\n",
              "       [0.74906367],\n",
              "       [0.76264045],\n",
              "       [0.75983146],\n",
              "       [0.75468165],\n",
              "       [0.76451311],\n",
              "       [0.75889513],\n",
              "       [0.75514981],\n",
              "       [0.75561798],\n",
              "       [0.76076779],\n",
              "       [0.77481273],\n",
              "       [0.79166667],\n",
              "       [0.78277154],\n",
              "       [0.79681648],\n",
              "       [0.80337079],\n",
              "       [0.80945693],\n",
              "       [0.81132959],\n",
              "       [0.81413858],\n",
              "       [0.82069288],\n",
              "       [0.81975655],\n",
              "       [0.82209738],\n",
              "       [0.81039326],\n",
              "       [0.81132959],\n",
              "       [0.80992509],\n",
              "       [0.81460674],\n",
              "       [0.81413858],\n",
              "       [0.8178839 ],\n",
              "       [0.81882022],\n",
              "       [0.82162921],\n",
              "       [0.81928839],\n",
              "       [0.81975655],\n",
              "       [0.8178839 ],\n",
              "       [0.82209738],\n",
              "       [0.82350187],\n",
              "       [0.81928839],\n",
              "       [0.82537453],\n",
              "       [0.8178839 ],\n",
              "       [0.82256554],\n",
              "       [0.82537453],\n",
              "       [0.83192884],\n",
              "       [0.82631086],\n",
              "       [0.82771536],\n",
              "       [0.82490637],\n",
              "       [0.81741573],\n",
              "       [0.82256554],\n",
              "       [0.82397004],\n",
              "       [0.82256554],\n",
              "       [0.8178839 ],\n",
              "       [0.81975655],\n",
              "       [0.81554307],\n",
              "       [0.81507491],\n",
              "       [0.81460674],\n",
              "       [0.82116105],\n",
              "       [0.82724719],\n",
              "       [0.82818352],\n",
              "       [0.82303371],\n",
              "       [0.82537453],\n",
              "       [0.83286517],\n",
              "       [0.83567416],\n",
              "       [0.832397  ],\n",
              "       [0.83146067],\n",
              "       [0.83707865],\n",
              "       [0.83192884],\n",
              "       [0.83801498],\n",
              "       [0.83661049],\n",
              "       [0.84035581],\n",
              "       [0.84316479],\n",
              "       [0.84456929],\n",
              "       [0.84550562],\n",
              "       [0.84691011],\n",
              "       [0.84831461],\n",
              "       [0.84644195],\n",
              "       [0.8511236 ],\n",
              "       [0.85252809],\n",
              "       [0.84737828],\n",
              "       [0.84129213],\n",
              "       [0.84925094],\n",
              "       [0.83567416],\n",
              "       [0.84316479],\n",
              "       [0.84503745],\n",
              "       [0.84644195],\n",
              "       [0.85299625],\n",
              "       [0.85346442],\n",
              "       [0.85252809],\n",
              "       [0.85065543],\n",
              "       [0.84784644],\n",
              "       [0.85533708],\n",
              "       [0.86235955],\n",
              "       [0.86189139],\n",
              "       [0.86329588],\n",
              "       [0.8656367 ],\n",
              "       [0.87359551],\n",
              "       [0.88249064],\n",
              "       [0.88670412],\n",
              "       [0.88951311],\n",
              "       [0.90496255],\n",
              "       [0.90496255],\n",
              "       [0.91058052],\n",
              "       [0.91198502],\n",
              "       [0.91432584],\n",
              "       [0.91807116],\n",
              "       [0.91526217],\n",
              "       [0.91104869],\n",
              "       [0.91198502],\n",
              "       [0.9161985 ],\n",
              "       [0.89981273],\n",
              "       [0.90074906],\n",
              "       [0.9002809 ],\n",
              "       [0.90168539],\n",
              "       [0.90402622],\n",
              "       [0.90589888],\n",
              "       [0.917603  ],\n",
              "       [0.92181648],\n",
              "       [0.91900749],\n",
              "       [0.91573034],\n",
              "       [0.91994382],\n",
              "       [0.92088015],\n",
              "       [0.91198502],\n",
              "       [0.91104869],\n",
              "       [0.90870787],\n",
              "       [0.90589888],\n",
              "       [0.91011236],\n",
              "       [0.90636704],\n",
              "       [0.90636704],\n",
              "       [0.90355805],\n",
              "       [0.91198502],\n",
              "       [0.91198502],\n",
              "       [0.91338951],\n",
              "       [0.91573034],\n",
              "       [0.92088015],\n",
              "       [0.92743446],\n",
              "       [0.93258427],\n",
              "       [0.93258427],\n",
              "       [0.9414794 ],\n",
              "       [0.95131086],\n",
              "       [0.95177903],\n",
              "       [0.95224719],\n",
              "       [0.95552434],\n",
              "       [0.957397  ],\n",
              "       [0.9588015 ],\n",
              "       [0.95271536],\n",
              "       [0.95411985],\n",
              "       [0.95505618],\n",
              "       [0.95224719],\n",
              "       [0.94850187],\n",
              "       [0.94241573],\n",
              "       [0.93773408],\n",
              "       [0.93726592],\n",
              "       [0.93867041],\n",
              "       [0.93960674],\n",
              "       [0.93867041],\n",
              "       [0.93726592],\n",
              "       [0.93679775],\n",
              "       [0.93820225],\n",
              "       [0.93820225],\n",
              "       [0.93632959],\n",
              "       [0.93726592],\n",
              "       [0.9428839 ],\n",
              "       [0.94335206],\n",
              "       [0.94803371],\n",
              "       [0.95599251],\n",
              "       [0.95786517],\n",
              "       [0.95646067],\n",
              "       [0.95411985],\n",
              "       [0.94522472],\n",
              "       [0.93117978],\n",
              "       [0.92649813],\n",
              "       [0.93398876],\n",
              "       [0.93445693],\n",
              "       [0.93539326],\n",
              "       [0.93913858],\n",
              "       [0.94194757],\n",
              "       [0.94522472],\n",
              "       [0.94522472],\n",
              "       [0.93820225],\n",
              "       [0.93773408],\n",
              "       [0.94569288],\n",
              "       [0.94990637],\n",
              "       [0.95786517],\n",
              "       [0.95177903],\n",
              "       [0.94569288],\n",
              "       [0.9494382 ],\n",
              "       [0.95411985],\n",
              "       [0.95318352],\n",
              "       [0.96020599],\n",
              "       [0.96161049],\n",
              "       [0.95926966],\n",
              "       [0.96020599],\n",
              "       [0.95552434],\n",
              "       [0.96161049],\n",
              "       [0.96207865],\n",
              "       [0.96488764],\n",
              "       [0.96535581],\n",
              "       [0.96816479],\n",
              "       [0.98174157],\n",
              "       [0.97986891],\n",
              "       [0.97940075],\n",
              "       [0.97986891],\n",
              "       [0.9906367 ],\n",
              "       [0.99953184],\n",
              "       [1.        ],\n",
              "       [0.98642322]])"
            ]
          },
          "metadata": {
            "tags": []
          },
          "execution_count": 24
        }
      ]
    },
    {
      "cell_type": "code",
      "metadata": {
        "id": "CfOM_aBk10v_",
        "colab_type": "code",
        "colab": {}
      },
      "source": [
        "ts = int(len(df1) * 0.7)\n",
        "tes = len(df1) - ts\n",
        "train, test = df1[0: ts,:], df1[ts: len(df1), :1]"
      ],
      "execution_count": 34,
      "outputs": []
    },
    {
      "cell_type": "code",
      "metadata": {
        "id": "yNJVdUpa7xS2",
        "colab_type": "code",
        "colab": {
          "base_uri": "https://localhost:8080/",
          "height": 1000
        },
        "outputId": "a4f6cd08-12f8-4c09-b226-7bdd349a7b05"
      },
      "source": [
        "test"
      ],
      "execution_count": 42,
      "outputs": [
        {
          "output_type": "execute_result",
          "data": {
            "text/plain": [
              "array([[0.83146067],\n",
              "       [0.83707865],\n",
              "       [0.83192884],\n",
              "       [0.83801498],\n",
              "       [0.83661049],\n",
              "       [0.84035581],\n",
              "       [0.84316479],\n",
              "       [0.84456929],\n",
              "       [0.84550562],\n",
              "       [0.84691011],\n",
              "       [0.84831461],\n",
              "       [0.84644195],\n",
              "       [0.8511236 ],\n",
              "       [0.85252809],\n",
              "       [0.84737828],\n",
              "       [0.84129213],\n",
              "       [0.84925094],\n",
              "       [0.83567416],\n",
              "       [0.84316479],\n",
              "       [0.84503745],\n",
              "       [0.84644195],\n",
              "       [0.85299625],\n",
              "       [0.85346442],\n",
              "       [0.85252809],\n",
              "       [0.85065543],\n",
              "       [0.84784644],\n",
              "       [0.85533708],\n",
              "       [0.86235955],\n",
              "       [0.86189139],\n",
              "       [0.86329588],\n",
              "       [0.8656367 ],\n",
              "       [0.87359551],\n",
              "       [0.88249064],\n",
              "       [0.88670412],\n",
              "       [0.88951311],\n",
              "       [0.90496255],\n",
              "       [0.90496255],\n",
              "       [0.91058052],\n",
              "       [0.91198502],\n",
              "       [0.91432584],\n",
              "       [0.91807116],\n",
              "       [0.91526217],\n",
              "       [0.91104869],\n",
              "       [0.91198502],\n",
              "       [0.9161985 ],\n",
              "       [0.89981273],\n",
              "       [0.90074906],\n",
              "       [0.9002809 ],\n",
              "       [0.90168539],\n",
              "       [0.90402622],\n",
              "       [0.90589888],\n",
              "       [0.917603  ],\n",
              "       [0.92181648],\n",
              "       [0.91900749],\n",
              "       [0.91573034],\n",
              "       [0.91994382],\n",
              "       [0.92088015],\n",
              "       [0.91198502],\n",
              "       [0.91104869],\n",
              "       [0.90870787],\n",
              "       [0.90589888],\n",
              "       [0.91011236],\n",
              "       [0.90636704],\n",
              "       [0.90636704],\n",
              "       [0.90355805],\n",
              "       [0.91198502],\n",
              "       [0.91198502],\n",
              "       [0.91338951],\n",
              "       [0.91573034],\n",
              "       [0.92088015],\n",
              "       [0.92743446],\n",
              "       [0.93258427],\n",
              "       [0.93258427],\n",
              "       [0.9414794 ],\n",
              "       [0.95131086],\n",
              "       [0.95177903],\n",
              "       [0.95224719],\n",
              "       [0.95552434],\n",
              "       [0.957397  ],\n",
              "       [0.9588015 ],\n",
              "       [0.95271536],\n",
              "       [0.95411985],\n",
              "       [0.95505618],\n",
              "       [0.95224719],\n",
              "       [0.94850187],\n",
              "       [0.94241573],\n",
              "       [0.93773408],\n",
              "       [0.93726592],\n",
              "       [0.93867041],\n",
              "       [0.93960674],\n",
              "       [0.93867041],\n",
              "       [0.93726592],\n",
              "       [0.93679775],\n",
              "       [0.93820225],\n",
              "       [0.93820225],\n",
              "       [0.93632959],\n",
              "       [0.93726592],\n",
              "       [0.9428839 ],\n",
              "       [0.94335206],\n",
              "       [0.94803371],\n",
              "       [0.95599251],\n",
              "       [0.95786517],\n",
              "       [0.95646067],\n",
              "       [0.95411985],\n",
              "       [0.94522472],\n",
              "       [0.93117978],\n",
              "       [0.92649813],\n",
              "       [0.93398876],\n",
              "       [0.93445693],\n",
              "       [0.93539326],\n",
              "       [0.93913858],\n",
              "       [0.94194757],\n",
              "       [0.94522472],\n",
              "       [0.94522472],\n",
              "       [0.93820225],\n",
              "       [0.93773408],\n",
              "       [0.94569288],\n",
              "       [0.94990637],\n",
              "       [0.95786517],\n",
              "       [0.95177903],\n",
              "       [0.94569288],\n",
              "       [0.9494382 ],\n",
              "       [0.95411985],\n",
              "       [0.95318352],\n",
              "       [0.96020599],\n",
              "       [0.96161049],\n",
              "       [0.95926966],\n",
              "       [0.96020599],\n",
              "       [0.95552434],\n",
              "       [0.96161049],\n",
              "       [0.96207865],\n",
              "       [0.96488764],\n",
              "       [0.96535581],\n",
              "       [0.96816479],\n",
              "       [0.98174157],\n",
              "       [0.97986891],\n",
              "       [0.97940075],\n",
              "       [0.97986891],\n",
              "       [0.9906367 ],\n",
              "       [0.99953184],\n",
              "       [1.        ],\n",
              "       [0.98642322]])"
            ]
          },
          "metadata": {
            "tags": []
          },
          "execution_count": 42
        }
      ]
    },
    {
      "cell_type": "code",
      "metadata": {
        "id": "7_WGAv4F3mCv",
        "colab_type": "code",
        "colab": {
          "base_uri": "https://localhost:8080/",
          "height": 34
        },
        "outputId": "8c6d2889-d2a8-4a5d-aa18-f8acee28379b"
      },
      "source": [
        "ts, tes"
      ],
      "execution_count": 35,
      "outputs": [
        {
          "output_type": "execute_result",
          "data": {
            "text/plain": [
              "(331, 142)"
            ]
          },
          "metadata": {
            "tags": []
          },
          "execution_count": 35
        }
      ]
    },
    {
      "cell_type": "code",
      "metadata": {
        "id": "etDXbxHF3oDo",
        "colab_type": "code",
        "colab": {}
      },
      "source": [
        "# Take into consideration the last 5 tournaments for the LSTM\n",
        "# Maybe you have some momentum or maybe you are in a Slump\n",
        "# 5 tourneys gives a larger consideration to your overall play"
      ],
      "execution_count": 36,
      "outputs": []
    },
    {
      "cell_type": "code",
      "metadata": {
        "id": "z5DmcX_94PUc",
        "colab_type": "code",
        "colab": {}
      },
      "source": [
        "def data_split(dataset, timestep):\n",
        "  X, y = [], []\n",
        "  for i in range(len(dataset) - timestep-1):\n",
        "    a = dataset[i: (i+timestep), 0]\n",
        "    X.append(a)\n",
        "    y.append(dataset[i + timestep, 0])\n",
        "  return np.array(X), np.array(y)"
      ],
      "execution_count": 43,
      "outputs": []
    },
    {
      "cell_type": "code",
      "metadata": {
        "id": "bePr3t8G6TZG",
        "colab_type": "code",
        "colab": {}
      },
      "source": [
        "time_step = 5\n",
        "X_train, y_train = data_split(train, time_step)\n",
        "X_test, y_test = data_split(test, time_step)"
      ],
      "execution_count": 44,
      "outputs": []
    },
    {
      "cell_type": "code",
      "metadata": {
        "id": "pko0uvMF7mjj",
        "colab_type": "code",
        "colab": {
          "base_uri": "https://localhost:8080/",
          "height": 136
        },
        "outputId": "e8f6fec7-3546-4ce3-f19e-6f150abf453a"
      },
      "source": [
        "X_train"
      ],
      "execution_count": 45,
      "outputs": [
        {
          "output_type": "execute_result",
          "data": {
            "text/plain": [
              "array([[0.0079588 , 0.        , 0.03417603, 0.02902622, 0.07256554],\n",
              "       [0.        , 0.03417603, 0.02902622, 0.07256554, 0.10720974],\n",
              "       [0.03417603, 0.02902622, 0.07256554, 0.10720974, 0.12219101],\n",
              "       ...,\n",
              "       [0.81460674, 0.82116105, 0.82724719, 0.82818352, 0.82303371],\n",
              "       [0.82116105, 0.82724719, 0.82818352, 0.82303371, 0.82537453],\n",
              "       [0.82724719, 0.82818352, 0.82303371, 0.82537453, 0.83286517]])"
            ]
          },
          "metadata": {
            "tags": []
          },
          "execution_count": 45
        }
      ]
    },
    {
      "cell_type": "code",
      "metadata": {
        "id": "BcauQCW57nir",
        "colab_type": "code",
        "colab": {
          "base_uri": "https://localhost:8080/",
          "height": 1000
        },
        "outputId": "415c8deb-145c-4f4e-a127-c79f93e9b710"
      },
      "source": [
        "y_train"
      ],
      "execution_count": 46,
      "outputs": [
        {
          "output_type": "execute_result",
          "data": {
            "text/plain": [
              "array([0.10720974, 0.12219101, 0.13389513, 0.1409176 , 0.14279026,\n",
              "       0.15402622, 0.2420412 , 0.24438202, 0.26076779, 0.22846442,\n",
              "       0.22565543, 0.21769663, 0.2167603 , 0.26076779, 0.25514981,\n",
              "       0.29962547, 0.26685393, 0.24531835, 0.29213483, 0.28183521,\n",
              "       0.31413858, 0.29728464, 0.32116105, 0.39513109, 0.40074906,\n",
              "       0.3988764 , 0.41104869, 0.39185393, 0.36844569, 0.33707865,\n",
              "       0.34550562, 0.34456929, 0.39700375, 0.36844569, 0.36750936,\n",
              "       0.36797753, 0.38249064, 0.40636704, 0.4002809 , 0.37827715,\n",
              "       0.38014981, 0.42602996, 0.41994382, 0.4082397 , 0.40917603,\n",
              "       0.40870787, 0.40636704, 0.43117978, 0.46348315, 0.45131086,\n",
              "       0.47799625, 0.49531835, 0.49391386, 0.47705993, 0.48080524,\n",
              "       0.48548689, 0.46395131, 0.48127341, 0.47050562, 0.47003745,\n",
              "       0.47893258, 0.49578652, 0.49906367, 0.53370787, 0.52106742,\n",
              "       0.51544944, 0.50655431, 0.49672285, 0.52481273, 0.52855805,\n",
              "       0.53838951, 0.53651685, 0.53885768, 0.54868914, 0.55290262,\n",
              "       0.54728464, 0.53277154, 0.54634831, 0.55337079, 0.56320225,\n",
              "       0.5571161 , 0.55664794, 0.55617978, 0.55617978, 0.55383895,\n",
              "       0.5491573 , 0.54400749, 0.58005618, 0.58146067, 0.56975655,\n",
              "       0.54822097, 0.54494382, 0.55430712, 0.54634831, 0.54447566,\n",
              "       0.54213483, 0.53745318, 0.57303371, 0.57631086, 0.58146067,\n",
              "       0.59410112, 0.62078652, 0.61423221, 0.61985019, 0.61657303,\n",
              "       0.625     , 0.61938202, 0.59691011, 0.58848315, 0.58099251,\n",
              "       0.59550562, 0.59410112, 0.58941948, 0.58286517, 0.58520599,\n",
              "       0.58286517, 0.57677903, 0.58754682, 0.5917603 , 0.58941948,\n",
              "       0.57069288, 0.58192884, 0.58520599, 0.58848315, 0.59878277,\n",
              "       0.6011236 , 0.60346442, 0.60533708, 0.61329588, 0.61470037,\n",
              "       0.61750936, 0.61329588, 0.61423221, 0.61470037, 0.62265918,\n",
              "       0.62546816, 0.62734082, 0.62968165, 0.63155431, 0.62265918,\n",
              "       0.61844569, 0.62359551, 0.63904494, 0.63951311, 0.64279026,\n",
              "       0.64372659, 0.64559925, 0.6423221 , 0.63202247, 0.62734082,\n",
              "       0.62593633, 0.62172285, 0.63061798, 0.62968165, 0.62687266,\n",
              "       0.65308989, 0.66385768, 0.66432584, 0.66947566, 0.66198502,\n",
              "       0.66526217, 0.66666667, 0.67509363, 0.66994382, 0.68305243,\n",
              "       0.68492509, 0.67275281, 0.66573034, 0.67088015, 0.66853933,\n",
              "       0.67649813, 0.6821161 , 0.67790262, 0.68164794, 0.67790262,\n",
              "       0.67883895, 0.6821161 , 0.67837079, 0.67509363, 0.67602996,\n",
              "       0.68445693, 0.68773408, 0.69522472, 0.68679775, 0.68913858,\n",
              "       0.68164794, 0.69662921, 0.69756554, 0.68305243, 0.68867041,\n",
              "       0.68773408, 0.68586142, 0.68679775, 0.67088015, 0.67743446,\n",
              "       0.67696629, 0.67930712, 0.69382022, 0.69335206, 0.70318352,\n",
              "       0.70131086, 0.70411985, 0.71207865, 0.70926966, 0.72050562,\n",
              "       0.71020599, 0.71067416, 0.71395131, 0.71956929, 0.72191011,\n",
              "       0.71207865, 0.70692884, 0.70973783, 0.71395131, 0.71582397,\n",
              "       0.7167603 , 0.71769663, 0.71816479, 0.70973783, 0.69897004,\n",
              "       0.6994382 , 0.72050562, 0.72144195, 0.72565543, 0.72705993,\n",
              "       0.72799625, 0.72705993, 0.73127341, 0.7261236 , 0.72705993,\n",
              "       0.72518727, 0.7261236 , 0.72799625, 0.71629213, 0.7088015 ,\n",
              "       0.70786517, 0.70271536, 0.70411985, 0.70037453, 0.70177903,\n",
              "       0.70411985, 0.71161049, 0.70692884, 0.70599251, 0.70271536,\n",
              "       0.69475655, 0.69662921, 0.69335206, 0.70552434, 0.70505618,\n",
              "       0.71301498, 0.71441948, 0.7326779 , 0.72940075, 0.73361423,\n",
              "       0.73548689, 0.73361423, 0.7326779 , 0.73501873, 0.73642322,\n",
              "       0.73735955, 0.75702247, 0.7593633 , 0.75983146, 0.76264045,\n",
              "       0.76123596, 0.74906367, 0.74906367, 0.76264045, 0.75983146,\n",
              "       0.75468165, 0.76451311, 0.75889513, 0.75514981, 0.75561798,\n",
              "       0.76076779, 0.77481273, 0.79166667, 0.78277154, 0.79681648,\n",
              "       0.80337079, 0.80945693, 0.81132959, 0.81413858, 0.82069288,\n",
              "       0.81975655, 0.82209738, 0.81039326, 0.81132959, 0.80992509,\n",
              "       0.81460674, 0.81413858, 0.8178839 , 0.81882022, 0.82162921,\n",
              "       0.81928839, 0.81975655, 0.8178839 , 0.82209738, 0.82350187,\n",
              "       0.81928839, 0.82537453, 0.8178839 , 0.82256554, 0.82537453,\n",
              "       0.83192884, 0.82631086, 0.82771536, 0.82490637, 0.81741573,\n",
              "       0.82256554, 0.82397004, 0.82256554, 0.8178839 , 0.81975655,\n",
              "       0.81554307, 0.81507491, 0.81460674, 0.82116105, 0.82724719,\n",
              "       0.82818352, 0.82303371, 0.82537453, 0.83286517, 0.83567416])"
            ]
          },
          "metadata": {
            "tags": []
          },
          "execution_count": 46
        }
      ]
    },
    {
      "cell_type": "code",
      "metadata": {
        "id": "zQDhNkbN7qjr",
        "colab_type": "code",
        "colab": {
          "base_uri": "https://localhost:8080/",
          "height": 1000
        },
        "outputId": "3b952337-6a0c-45a2-fee7-9c676bc8e0ae"
      },
      "source": [
        "X_test"
      ],
      "execution_count": 47,
      "outputs": [
        {
          "output_type": "execute_result",
          "data": {
            "text/plain": [
              "array([[0.83146067, 0.83707865, 0.83192884, 0.83801498, 0.83661049],\n",
              "       [0.83707865, 0.83192884, 0.83801498, 0.83661049, 0.84035581],\n",
              "       [0.83192884, 0.83801498, 0.83661049, 0.84035581, 0.84316479],\n",
              "       [0.83801498, 0.83661049, 0.84035581, 0.84316479, 0.84456929],\n",
              "       [0.83661049, 0.84035581, 0.84316479, 0.84456929, 0.84550562],\n",
              "       [0.84035581, 0.84316479, 0.84456929, 0.84550562, 0.84691011],\n",
              "       [0.84316479, 0.84456929, 0.84550562, 0.84691011, 0.84831461],\n",
              "       [0.84456929, 0.84550562, 0.84691011, 0.84831461, 0.84644195],\n",
              "       [0.84550562, 0.84691011, 0.84831461, 0.84644195, 0.8511236 ],\n",
              "       [0.84691011, 0.84831461, 0.84644195, 0.8511236 , 0.85252809],\n",
              "       [0.84831461, 0.84644195, 0.8511236 , 0.85252809, 0.84737828],\n",
              "       [0.84644195, 0.8511236 , 0.85252809, 0.84737828, 0.84129213],\n",
              "       [0.8511236 , 0.85252809, 0.84737828, 0.84129213, 0.84925094],\n",
              "       [0.85252809, 0.84737828, 0.84129213, 0.84925094, 0.83567416],\n",
              "       [0.84737828, 0.84129213, 0.84925094, 0.83567416, 0.84316479],\n",
              "       [0.84129213, 0.84925094, 0.83567416, 0.84316479, 0.84503745],\n",
              "       [0.84925094, 0.83567416, 0.84316479, 0.84503745, 0.84644195],\n",
              "       [0.83567416, 0.84316479, 0.84503745, 0.84644195, 0.85299625],\n",
              "       [0.84316479, 0.84503745, 0.84644195, 0.85299625, 0.85346442],\n",
              "       [0.84503745, 0.84644195, 0.85299625, 0.85346442, 0.85252809],\n",
              "       [0.84644195, 0.85299625, 0.85346442, 0.85252809, 0.85065543],\n",
              "       [0.85299625, 0.85346442, 0.85252809, 0.85065543, 0.84784644],\n",
              "       [0.85346442, 0.85252809, 0.85065543, 0.84784644, 0.85533708],\n",
              "       [0.85252809, 0.85065543, 0.84784644, 0.85533708, 0.86235955],\n",
              "       [0.85065543, 0.84784644, 0.85533708, 0.86235955, 0.86189139],\n",
              "       [0.84784644, 0.85533708, 0.86235955, 0.86189139, 0.86329588],\n",
              "       [0.85533708, 0.86235955, 0.86189139, 0.86329588, 0.8656367 ],\n",
              "       [0.86235955, 0.86189139, 0.86329588, 0.8656367 , 0.87359551],\n",
              "       [0.86189139, 0.86329588, 0.8656367 , 0.87359551, 0.88249064],\n",
              "       [0.86329588, 0.8656367 , 0.87359551, 0.88249064, 0.88670412],\n",
              "       [0.8656367 , 0.87359551, 0.88249064, 0.88670412, 0.88951311],\n",
              "       [0.87359551, 0.88249064, 0.88670412, 0.88951311, 0.90496255],\n",
              "       [0.88249064, 0.88670412, 0.88951311, 0.90496255, 0.90496255],\n",
              "       [0.88670412, 0.88951311, 0.90496255, 0.90496255, 0.91058052],\n",
              "       [0.88951311, 0.90496255, 0.90496255, 0.91058052, 0.91198502],\n",
              "       [0.90496255, 0.90496255, 0.91058052, 0.91198502, 0.91432584],\n",
              "       [0.90496255, 0.91058052, 0.91198502, 0.91432584, 0.91807116],\n",
              "       [0.91058052, 0.91198502, 0.91432584, 0.91807116, 0.91526217],\n",
              "       [0.91198502, 0.91432584, 0.91807116, 0.91526217, 0.91104869],\n",
              "       [0.91432584, 0.91807116, 0.91526217, 0.91104869, 0.91198502],\n",
              "       [0.91807116, 0.91526217, 0.91104869, 0.91198502, 0.9161985 ],\n",
              "       [0.91526217, 0.91104869, 0.91198502, 0.9161985 , 0.89981273],\n",
              "       [0.91104869, 0.91198502, 0.9161985 , 0.89981273, 0.90074906],\n",
              "       [0.91198502, 0.9161985 , 0.89981273, 0.90074906, 0.9002809 ],\n",
              "       [0.9161985 , 0.89981273, 0.90074906, 0.9002809 , 0.90168539],\n",
              "       [0.89981273, 0.90074906, 0.9002809 , 0.90168539, 0.90402622],\n",
              "       [0.90074906, 0.9002809 , 0.90168539, 0.90402622, 0.90589888],\n",
              "       [0.9002809 , 0.90168539, 0.90402622, 0.90589888, 0.917603  ],\n",
              "       [0.90168539, 0.90402622, 0.90589888, 0.917603  , 0.92181648],\n",
              "       [0.90402622, 0.90589888, 0.917603  , 0.92181648, 0.91900749],\n",
              "       [0.90589888, 0.917603  , 0.92181648, 0.91900749, 0.91573034],\n",
              "       [0.917603  , 0.92181648, 0.91900749, 0.91573034, 0.91994382],\n",
              "       [0.92181648, 0.91900749, 0.91573034, 0.91994382, 0.92088015],\n",
              "       [0.91900749, 0.91573034, 0.91994382, 0.92088015, 0.91198502],\n",
              "       [0.91573034, 0.91994382, 0.92088015, 0.91198502, 0.91104869],\n",
              "       [0.91994382, 0.92088015, 0.91198502, 0.91104869, 0.90870787],\n",
              "       [0.92088015, 0.91198502, 0.91104869, 0.90870787, 0.90589888],\n",
              "       [0.91198502, 0.91104869, 0.90870787, 0.90589888, 0.91011236],\n",
              "       [0.91104869, 0.90870787, 0.90589888, 0.91011236, 0.90636704],\n",
              "       [0.90870787, 0.90589888, 0.91011236, 0.90636704, 0.90636704],\n",
              "       [0.90589888, 0.91011236, 0.90636704, 0.90636704, 0.90355805],\n",
              "       [0.91011236, 0.90636704, 0.90636704, 0.90355805, 0.91198502],\n",
              "       [0.90636704, 0.90636704, 0.90355805, 0.91198502, 0.91198502],\n",
              "       [0.90636704, 0.90355805, 0.91198502, 0.91198502, 0.91338951],\n",
              "       [0.90355805, 0.91198502, 0.91198502, 0.91338951, 0.91573034],\n",
              "       [0.91198502, 0.91198502, 0.91338951, 0.91573034, 0.92088015],\n",
              "       [0.91198502, 0.91338951, 0.91573034, 0.92088015, 0.92743446],\n",
              "       [0.91338951, 0.91573034, 0.92088015, 0.92743446, 0.93258427],\n",
              "       [0.91573034, 0.92088015, 0.92743446, 0.93258427, 0.93258427],\n",
              "       [0.92088015, 0.92743446, 0.93258427, 0.93258427, 0.9414794 ],\n",
              "       [0.92743446, 0.93258427, 0.93258427, 0.9414794 , 0.95131086],\n",
              "       [0.93258427, 0.93258427, 0.9414794 , 0.95131086, 0.95177903],\n",
              "       [0.93258427, 0.9414794 , 0.95131086, 0.95177903, 0.95224719],\n",
              "       [0.9414794 , 0.95131086, 0.95177903, 0.95224719, 0.95552434],\n",
              "       [0.95131086, 0.95177903, 0.95224719, 0.95552434, 0.957397  ],\n",
              "       [0.95177903, 0.95224719, 0.95552434, 0.957397  , 0.9588015 ],\n",
              "       [0.95224719, 0.95552434, 0.957397  , 0.9588015 , 0.95271536],\n",
              "       [0.95552434, 0.957397  , 0.9588015 , 0.95271536, 0.95411985],\n",
              "       [0.957397  , 0.9588015 , 0.95271536, 0.95411985, 0.95505618],\n",
              "       [0.9588015 , 0.95271536, 0.95411985, 0.95505618, 0.95224719],\n",
              "       [0.95271536, 0.95411985, 0.95505618, 0.95224719, 0.94850187],\n",
              "       [0.95411985, 0.95505618, 0.95224719, 0.94850187, 0.94241573],\n",
              "       [0.95505618, 0.95224719, 0.94850187, 0.94241573, 0.93773408],\n",
              "       [0.95224719, 0.94850187, 0.94241573, 0.93773408, 0.93726592],\n",
              "       [0.94850187, 0.94241573, 0.93773408, 0.93726592, 0.93867041],\n",
              "       [0.94241573, 0.93773408, 0.93726592, 0.93867041, 0.93960674],\n",
              "       [0.93773408, 0.93726592, 0.93867041, 0.93960674, 0.93867041],\n",
              "       [0.93726592, 0.93867041, 0.93960674, 0.93867041, 0.93726592],\n",
              "       [0.93867041, 0.93960674, 0.93867041, 0.93726592, 0.93679775],\n",
              "       [0.93960674, 0.93867041, 0.93726592, 0.93679775, 0.93820225],\n",
              "       [0.93867041, 0.93726592, 0.93679775, 0.93820225, 0.93820225],\n",
              "       [0.93726592, 0.93679775, 0.93820225, 0.93820225, 0.93632959],\n",
              "       [0.93679775, 0.93820225, 0.93820225, 0.93632959, 0.93726592],\n",
              "       [0.93820225, 0.93820225, 0.93632959, 0.93726592, 0.9428839 ],\n",
              "       [0.93820225, 0.93632959, 0.93726592, 0.9428839 , 0.94335206],\n",
              "       [0.93632959, 0.93726592, 0.9428839 , 0.94335206, 0.94803371],\n",
              "       [0.93726592, 0.9428839 , 0.94335206, 0.94803371, 0.95599251],\n",
              "       [0.9428839 , 0.94335206, 0.94803371, 0.95599251, 0.95786517],\n",
              "       [0.94335206, 0.94803371, 0.95599251, 0.95786517, 0.95646067],\n",
              "       [0.94803371, 0.95599251, 0.95786517, 0.95646067, 0.95411985],\n",
              "       [0.95599251, 0.95786517, 0.95646067, 0.95411985, 0.94522472],\n",
              "       [0.95786517, 0.95646067, 0.95411985, 0.94522472, 0.93117978],\n",
              "       [0.95646067, 0.95411985, 0.94522472, 0.93117978, 0.92649813],\n",
              "       [0.95411985, 0.94522472, 0.93117978, 0.92649813, 0.93398876],\n",
              "       [0.94522472, 0.93117978, 0.92649813, 0.93398876, 0.93445693],\n",
              "       [0.93117978, 0.92649813, 0.93398876, 0.93445693, 0.93539326],\n",
              "       [0.92649813, 0.93398876, 0.93445693, 0.93539326, 0.93913858],\n",
              "       [0.93398876, 0.93445693, 0.93539326, 0.93913858, 0.94194757],\n",
              "       [0.93445693, 0.93539326, 0.93913858, 0.94194757, 0.94522472],\n",
              "       [0.93539326, 0.93913858, 0.94194757, 0.94522472, 0.94522472],\n",
              "       [0.93913858, 0.94194757, 0.94522472, 0.94522472, 0.93820225],\n",
              "       [0.94194757, 0.94522472, 0.94522472, 0.93820225, 0.93773408],\n",
              "       [0.94522472, 0.94522472, 0.93820225, 0.93773408, 0.94569288],\n",
              "       [0.94522472, 0.93820225, 0.93773408, 0.94569288, 0.94990637],\n",
              "       [0.93820225, 0.93773408, 0.94569288, 0.94990637, 0.95786517],\n",
              "       [0.93773408, 0.94569288, 0.94990637, 0.95786517, 0.95177903],\n",
              "       [0.94569288, 0.94990637, 0.95786517, 0.95177903, 0.94569288],\n",
              "       [0.94990637, 0.95786517, 0.95177903, 0.94569288, 0.9494382 ],\n",
              "       [0.95786517, 0.95177903, 0.94569288, 0.9494382 , 0.95411985],\n",
              "       [0.95177903, 0.94569288, 0.9494382 , 0.95411985, 0.95318352],\n",
              "       [0.94569288, 0.9494382 , 0.95411985, 0.95318352, 0.96020599],\n",
              "       [0.9494382 , 0.95411985, 0.95318352, 0.96020599, 0.96161049],\n",
              "       [0.95411985, 0.95318352, 0.96020599, 0.96161049, 0.95926966],\n",
              "       [0.95318352, 0.96020599, 0.96161049, 0.95926966, 0.96020599],\n",
              "       [0.96020599, 0.96161049, 0.95926966, 0.96020599, 0.95552434],\n",
              "       [0.96161049, 0.95926966, 0.96020599, 0.95552434, 0.96161049],\n",
              "       [0.95926966, 0.96020599, 0.95552434, 0.96161049, 0.96207865],\n",
              "       [0.96020599, 0.95552434, 0.96161049, 0.96207865, 0.96488764],\n",
              "       [0.95552434, 0.96161049, 0.96207865, 0.96488764, 0.96535581],\n",
              "       [0.96161049, 0.96207865, 0.96488764, 0.96535581, 0.96816479],\n",
              "       [0.96207865, 0.96488764, 0.96535581, 0.96816479, 0.98174157],\n",
              "       [0.96488764, 0.96535581, 0.96816479, 0.98174157, 0.97986891],\n",
              "       [0.96535581, 0.96816479, 0.98174157, 0.97986891, 0.97940075],\n",
              "       [0.96816479, 0.98174157, 0.97986891, 0.97940075, 0.97986891],\n",
              "       [0.98174157, 0.97986891, 0.97940075, 0.97986891, 0.9906367 ],\n",
              "       [0.97986891, 0.97940075, 0.97986891, 0.9906367 , 0.99953184]])"
            ]
          },
          "metadata": {
            "tags": []
          },
          "execution_count": 47
        }
      ]
    },
    {
      "cell_type": "code",
      "metadata": {
        "id": "pmthxfDv7sJa",
        "colab_type": "code",
        "colab": {
          "base_uri": "https://localhost:8080/",
          "height": 34
        },
        "outputId": "54835793-6329-450b-ed70-93a0de6ee21c"
      },
      "source": [
        "X_test.shape"
      ],
      "execution_count": 48,
      "outputs": [
        {
          "output_type": "execute_result",
          "data": {
            "text/plain": [
              "(136, 5)"
            ]
          },
          "metadata": {
            "tags": []
          },
          "execution_count": 48
        }
      ]
    },
    {
      "cell_type": "code",
      "metadata": {
        "id": "EtM8t23g79NR",
        "colab_type": "code",
        "colab": {
          "base_uri": "https://localhost:8080/",
          "height": 34
        },
        "outputId": "72071be6-db1c-4abc-9199-fc289e5ea54e"
      },
      "source": [
        "X_train.shape"
      ],
      "execution_count": 49,
      "outputs": [
        {
          "output_type": "execute_result",
          "data": {
            "text/plain": [
              "(325, 5)"
            ]
          },
          "metadata": {
            "tags": []
          },
          "execution_count": 49
        }
      ]
    },
    {
      "cell_type": "code",
      "metadata": {
        "id": "SwnlwBfA7-9y",
        "colab_type": "code",
        "colab": {
          "base_uri": "https://localhost:8080/",
          "height": 34
        },
        "outputId": "b028be2c-2fad-44c8-9611-4d90809bf424"
      },
      "source": [
        "y_test.shape"
      ],
      "execution_count": 50,
      "outputs": [
        {
          "output_type": "execute_result",
          "data": {
            "text/plain": [
              "(136,)"
            ]
          },
          "metadata": {
            "tags": []
          },
          "execution_count": 50
        }
      ]
    },
    {
      "cell_type": "code",
      "metadata": {
        "id": "TAnfWdvF8ATy",
        "colab_type": "code",
        "colab": {
          "base_uri": "https://localhost:8080/",
          "height": 34
        },
        "outputId": "903d0311-7444-45e7-fa97-612e12208227"
      },
      "source": [
        "y_train.shape"
      ],
      "execution_count": 51,
      "outputs": [
        {
          "output_type": "execute_result",
          "data": {
            "text/plain": [
              "(325,)"
            ]
          },
          "metadata": {
            "tags": []
          },
          "execution_count": 51
        }
      ]
    },
    {
      "cell_type": "code",
      "metadata": {
        "id": "OxUNjjh88BX7",
        "colab_type": "code",
        "colab": {}
      },
      "source": [
        "X_train = X_train.reshape(X_train.shape[0], X_train.shape[1], 1)\n",
        "X_test = X_test.reshape(X_test.shape[0], X_test.shape[1], 1)"
      ],
      "execution_count": 53,
      "outputs": []
    },
    {
      "cell_type": "code",
      "metadata": {
        "id": "gWLeK7Tc8Tpa",
        "colab_type": "code",
        "colab": {}
      },
      "source": [
        "from tensorflow import keras\n",
        "\n",
        "model = keras.Sequential()\n",
        "model.add(keras.layers.LSTM(50, return_sequences=True, input_shape=(5, 1)))\n",
        "model.add(keras.layers.LSTM(50, return_sequences=True))\n",
        "model.add(keras.layers.LSTM(50))\n",
        "model.add(keras.layers.Dense(1))"
      ],
      "execution_count": 56,
      "outputs": []
    },
    {
      "cell_type": "code",
      "metadata": {
        "id": "1fnk9ExY8ziD",
        "colab_type": "code",
        "colab": {}
      },
      "source": [
        "model.compile(loss = 'mean_squared_error', optimizer='adam')"
      ],
      "execution_count": 58,
      "outputs": []
    },
    {
      "cell_type": "code",
      "metadata": {
        "id": "cLRhvRlV9C1s",
        "colab_type": "code",
        "colab": {
          "base_uri": "https://localhost:8080/",
          "height": 289
        },
        "outputId": "19505093-7e6c-4d20-bd67-c73493b77203"
      },
      "source": [
        "model.summary()"
      ],
      "execution_count": 59,
      "outputs": [
        {
          "output_type": "stream",
          "text": [
            "Model: \"sequential_1\"\n",
            "_________________________________________________________________\n",
            "Layer (type)                 Output Shape              Param #   \n",
            "=================================================================\n",
            "lstm_3 (LSTM)                (None, 5, 50)             10400     \n",
            "_________________________________________________________________\n",
            "lstm_4 (LSTM)                (None, 5, 50)             20200     \n",
            "_________________________________________________________________\n",
            "lstm_5 (LSTM)                (None, 50)                20200     \n",
            "_________________________________________________________________\n",
            "dense (Dense)                (None, 1)                 51        \n",
            "=================================================================\n",
            "Total params: 50,851\n",
            "Trainable params: 50,851\n",
            "Non-trainable params: 0\n",
            "_________________________________________________________________\n"
          ],
          "name": "stdout"
        }
      ]
    },
    {
      "cell_type": "code",
      "metadata": {
        "id": "HbolL_AK9GcM",
        "colab_type": "code",
        "colab": {
          "base_uri": "https://localhost:8080/",
          "height": 1000
        },
        "outputId": "c8443117-3510-4a07-f7f1-7e1def5f26bf"
      },
      "source": [
        "model.fit(X_train, y_train, validation_data=(X_test, y_test), epochs=50, batch_size=20, verbose=1)"
      ],
      "execution_count": 60,
      "outputs": [
        {
          "output_type": "stream",
          "text": [
            "Epoch 1/50\n",
            "17/17 [==============================] - 1s 57ms/step - loss: 0.2150 - val_loss: 0.0035\n",
            "Epoch 2/50\n",
            "17/17 [==============================] - 0s 7ms/step - loss: 0.0201 - val_loss: 0.0657\n",
            "Epoch 3/50\n",
            "17/17 [==============================] - 0s 7ms/step - loss: 0.0083 - val_loss: 0.0105\n",
            "Epoch 4/50\n",
            "17/17 [==============================] - 0s 7ms/step - loss: 0.0052 - val_loss: 0.0100\n",
            "Epoch 5/50\n",
            "17/17 [==============================] - 0s 7ms/step - loss: 0.0037 - val_loss: 0.0107\n",
            "Epoch 6/50\n",
            "17/17 [==============================] - 0s 7ms/step - loss: 0.0025 - val_loss: 0.0041\n",
            "Epoch 7/50\n",
            "17/17 [==============================] - 0s 7ms/step - loss: 0.0015 - val_loss: 0.0016\n",
            "Epoch 8/50\n",
            "17/17 [==============================] - 0s 7ms/step - loss: 8.9240e-04 - val_loss: 2.6870e-04\n",
            "Epoch 9/50\n",
            "17/17 [==============================] - 0s 7ms/step - loss: 5.4098e-04 - val_loss: 1.6756e-04\n",
            "Epoch 10/50\n",
            "17/17 [==============================] - 0s 7ms/step - loss: 3.9284e-04 - val_loss: 1.1925e-04\n",
            "Epoch 11/50\n",
            "17/17 [==============================] - 0s 7ms/step - loss: 3.6011e-04 - val_loss: 2.2803e-04\n",
            "Epoch 12/50\n",
            "17/17 [==============================] - 0s 7ms/step - loss: 3.5549e-04 - val_loss: 2.9036e-04\n",
            "Epoch 13/50\n",
            "17/17 [==============================] - 0s 7ms/step - loss: 3.5741e-04 - val_loss: 1.2348e-04\n",
            "Epoch 14/50\n",
            "17/17 [==============================] - 0s 8ms/step - loss: 3.6084e-04 - val_loss: 1.7073e-04\n",
            "Epoch 15/50\n",
            "17/17 [==============================] - 0s 9ms/step - loss: 3.6766e-04 - val_loss: 2.1361e-04\n",
            "Epoch 16/50\n",
            "17/17 [==============================] - 0s 8ms/step - loss: 3.6858e-04 - val_loss: 1.1363e-04\n",
            "Epoch 17/50\n",
            "17/17 [==============================] - 0s 8ms/step - loss: 3.6318e-04 - val_loss: 1.2443e-04\n",
            "Epoch 18/50\n",
            "17/17 [==============================] - 0s 9ms/step - loss: 3.7731e-04 - val_loss: 1.2626e-04\n",
            "Epoch 19/50\n",
            "17/17 [==============================] - 0s 7ms/step - loss: 3.5564e-04 - val_loss: 2.4703e-04\n",
            "Epoch 20/50\n",
            "17/17 [==============================] - 0s 7ms/step - loss: 3.5726e-04 - val_loss: 1.4532e-04\n",
            "Epoch 21/50\n",
            "17/17 [==============================] - 0s 8ms/step - loss: 3.6404e-04 - val_loss: 1.3177e-04\n",
            "Epoch 22/50\n",
            "17/17 [==============================] - 0s 9ms/step - loss: 3.7211e-04 - val_loss: 2.1653e-04\n",
            "Epoch 23/50\n",
            "17/17 [==============================] - 0s 8ms/step - loss: 3.8619e-04 - val_loss: 1.4454e-04\n",
            "Epoch 24/50\n",
            "17/17 [==============================] - 0s 8ms/step - loss: 3.5085e-04 - val_loss: 1.9965e-04\n",
            "Epoch 25/50\n",
            "17/17 [==============================] - 0s 9ms/step - loss: 3.8841e-04 - val_loss: 1.1190e-04\n",
            "Epoch 26/50\n",
            "17/17 [==============================] - 0s 8ms/step - loss: 3.5220e-04 - val_loss: 1.1249e-04\n",
            "Epoch 27/50\n",
            "17/17 [==============================] - 0s 8ms/step - loss: 3.5573e-04 - val_loss: 1.0949e-04\n",
            "Epoch 28/50\n",
            "17/17 [==============================] - 0s 8ms/step - loss: 4.0455e-04 - val_loss: 6.8491e-04\n",
            "Epoch 29/50\n",
            "17/17 [==============================] - 0s 8ms/step - loss: 4.1210e-04 - val_loss: 1.1561e-04\n",
            "Epoch 30/50\n",
            "17/17 [==============================] - 0s 9ms/step - loss: 3.6681e-04 - val_loss: 1.1327e-04\n",
            "Epoch 31/50\n",
            "17/17 [==============================] - 0s 8ms/step - loss: 3.6800e-04 - val_loss: 2.6552e-04\n",
            "Epoch 32/50\n",
            "17/17 [==============================] - 0s 8ms/step - loss: 3.6456e-04 - val_loss: 1.2070e-04\n",
            "Epoch 33/50\n",
            "17/17 [==============================] - 0s 7ms/step - loss: 3.6402e-04 - val_loss: 1.6884e-04\n",
            "Epoch 34/50\n",
            "17/17 [==============================] - 0s 7ms/step - loss: 3.5608e-04 - val_loss: 1.0811e-04\n",
            "Epoch 35/50\n",
            "17/17 [==============================] - 0s 7ms/step - loss: 3.7922e-04 - val_loss: 1.5047e-04\n",
            "Epoch 36/50\n",
            "17/17 [==============================] - 0s 8ms/step - loss: 3.8098e-04 - val_loss: 2.2494e-04\n",
            "Epoch 37/50\n",
            "17/17 [==============================] - 0s 7ms/step - loss: 3.8347e-04 - val_loss: 1.1099e-04\n",
            "Epoch 38/50\n",
            "17/17 [==============================] - 0s 7ms/step - loss: 3.5784e-04 - val_loss: 1.2111e-04\n",
            "Epoch 39/50\n",
            "17/17 [==============================] - 0s 7ms/step - loss: 3.6159e-04 - val_loss: 1.1079e-04\n",
            "Epoch 40/50\n",
            "17/17 [==============================] - 0s 7ms/step - loss: 3.6338e-04 - val_loss: 2.6640e-04\n",
            "Epoch 41/50\n",
            "17/17 [==============================] - 0s 7ms/step - loss: 3.6649e-04 - val_loss: 1.1885e-04\n",
            "Epoch 42/50\n",
            "17/17 [==============================] - 0s 7ms/step - loss: 3.6442e-04 - val_loss: 2.6559e-04\n",
            "Epoch 43/50\n",
            "17/17 [==============================] - 0s 7ms/step - loss: 4.0519e-04 - val_loss: 2.0909e-04\n",
            "Epoch 44/50\n",
            "17/17 [==============================] - 0s 7ms/step - loss: 3.8711e-04 - val_loss: 1.2804e-04\n",
            "Epoch 45/50\n",
            "17/17 [==============================] - 0s 7ms/step - loss: 4.0201e-04 - val_loss: 2.0851e-04\n",
            "Epoch 46/50\n",
            "17/17 [==============================] - 0s 7ms/step - loss: 4.2445e-04 - val_loss: 4.4309e-04\n",
            "Epoch 47/50\n",
            "17/17 [==============================] - 0s 7ms/step - loss: 3.9437e-04 - val_loss: 1.5547e-04\n",
            "Epoch 48/50\n",
            "17/17 [==============================] - 0s 7ms/step - loss: 3.5328e-04 - val_loss: 1.1998e-04\n",
            "Epoch 49/50\n",
            "17/17 [==============================] - 0s 7ms/step - loss: 3.5516e-04 - val_loss: 1.0622e-04\n",
            "Epoch 50/50\n",
            "17/17 [==============================] - 0s 9ms/step - loss: 3.8941e-04 - val_loss: 1.3167e-04\n"
          ],
          "name": "stdout"
        },
        {
          "output_type": "execute_result",
          "data": {
            "text/plain": [
              "<tensorflow.python.keras.callbacks.History at 0x7f88853acd30>"
            ]
          },
          "metadata": {
            "tags": []
          },
          "execution_count": 60
        }
      ]
    },
    {
      "cell_type": "code",
      "metadata": {
        "id": "Z7tAKcSH9RDF",
        "colab_type": "code",
        "colab": {}
      },
      "source": [
        "train_predict = model.predict(X_train)\n",
        "test_predict = model.predict(X_test)"
      ],
      "execution_count": 61,
      "outputs": []
    },
    {
      "cell_type": "code",
      "metadata": {
        "id": "CfACRwgz9l6r",
        "colab_type": "code",
        "colab": {}
      },
      "source": [
        "# Back into original form\n",
        "train_predict = scaler.inverse_transform(train_predict)\n",
        "test_predict = scaler.inverse_transform(test_predict)"
      ],
      "execution_count": 62,
      "outputs": []
    },
    {
      "cell_type": "code",
      "metadata": {
        "id": "UcqylBUV91ZD",
        "colab_type": "code",
        "colab": {
          "base_uri": "https://localhost:8080/",
          "height": 34
        },
        "outputId": "2f70dea4-fc84-4412-fcba-d549659bd362"
      },
      "source": [
        "from sklearn.metrics import mean_squared_error\n",
        "\n",
        "ERROR = np.sqrt(mean_squared_error(y_train, train_predict))\n",
        "ERROR"
      ],
      "execution_count": 64,
      "outputs": [
        {
          "output_type": "execute_result",
          "data": {
            "text/plain": [
              "1838.171304402525"
            ]
          },
          "metadata": {
            "tags": []
          },
          "execution_count": 64
        }
      ]
    },
    {
      "cell_type": "code",
      "metadata": {
        "id": "xZAHbWJK9_ie",
        "colab_type": "code",
        "colab": {
          "base_uri": "https://localhost:8080/",
          "height": 34
        },
        "outputId": "007b2696-99db-4c91-fc4b-aaac6365fa4f"
      },
      "source": [
        "from sklearn.metrics import mean_squared_error\n",
        "\n",
        "TERROR = np.sqrt(mean_squared_error(y_test, test_predict))\n",
        "TERROR"
      ],
      "execution_count": 65,
      "outputs": [
        {
          "output_type": "execute_result",
          "data": {
            "text/plain": [
              "2451.487283858611"
            ]
          },
          "metadata": {
            "tags": []
          },
          "execution_count": 65
        }
      ]
    },
    {
      "cell_type": "code",
      "metadata": {
        "id": "4C9102Rz-GkD",
        "colab_type": "code",
        "colab": {
          "base_uri": "https://localhost:8080/",
          "height": 265
        },
        "outputId": "f3eae440-0dbe-44ff-f6f6-783668f9be2f"
      },
      "source": [
        "look_back=5\n",
        "trainPredictPlot = np.empty_like(df1)\n",
        "trainPredictPlot[:, :] = np.nan\n",
        "trainPredictPlot[look_back:len(train_predict)+look_back, :] = train_predict\n",
        "# shift test predictions for plotting\n",
        "testPredictPlot = np.empty_like(df1)\n",
        "testPredictPlot[:, :] = np.nan\n",
        "testPredictPlot[len(train_predict)+(look_back*2)+1:len(df1)-1, :] = test_predict\n",
        "# plot baseline and predictions\n",
        "plt.plot(scaler.inverse_transform(df1))\n",
        "plt.plot(trainPredictPlot)\n",
        "plt.plot(testPredictPlot)\n",
        "plt.savefig(\"praveen_rating.png\")\n",
        "plt.show()"
      ],
      "execution_count": 71,
      "outputs": [
        {
          "output_type": "display_data",
          "data": {
            "image/png": "[encoded data removed]",
            "text/plain": [
              "<Figure size 432x288 with 1 Axes>"
            ]
          },
          "metadata": {
            "tags": [],
            "needs_background": "light"
          }
        }
      ]
    },
    {
      "cell_type": "code",
      "metadata": {
        "id": "QnWFS7usAI9B",
        "colab_type": "code",
        "colab": {
          "base_uri": "https://localhost:8080/",
          "height": 34
        },
        "outputId": "4387b48d-06a6-4968-da09-afc6818ce037"
      },
      "source": [
        "len(test)"
      ],
      "execution_count": 78,
      "outputs": [
        {
          "output_type": "execute_result",
          "data": {
            "text/plain": [
              "142"
            ]
          },
          "metadata": {
            "tags": []
          },
          "execution_count": 78
        }
      ]
    },
    {
      "cell_type": "code",
      "metadata": {
        "id": "aiZ7pexa_2Zt",
        "colab_type": "code",
        "colab": {
          "base_uri": "https://localhost:8080/",
          "height": 34
        },
        "outputId": "31eaf6a4-c675-4838-d652-5d45cb91be3a"
      },
      "source": [
        "x_input=test[42:].reshape(1,-1)\n",
        "x_input.shape\n"
      ],
      "execution_count": 133,
      "outputs": [
        {
          "output_type": "execute_result",
          "data": {
            "text/plain": [
              "(1, 100)"
            ]
          },
          "metadata": {
            "tags": []
          },
          "execution_count": 133
        }
      ]
    },
    {
      "cell_type": "code",
      "metadata": {
        "id": "ikquGiCA_90p",
        "colab_type": "code",
        "colab": {}
      },
      "source": [
        "\n",
        "temp_input=list(x_input)\n",
        "temp_input=temp_input[0].tolist()"
      ],
      "execution_count": 134,
      "outputs": []
    },
    {
      "cell_type": "code",
      "metadata": {
        "id": "QxEoVMLEIsq2",
        "colab_type": "code",
        "colab": {
          "base_uri": "https://localhost:8080/",
          "height": 1000
        },
        "outputId": "7974d9d5-6f3b-4b30-9c2f-c96552efec26"
      },
      "source": [
        "temp_input"
      ],
      "execution_count": 135,
      "outputs": [
        {
          "output_type": "execute_result",
          "data": {
            "text/plain": [
              "[0.9110486891385767,\n",
              " 0.9119850187265919,\n",
              " 0.9161985018726593,\n",
              " 0.8998127340823969,\n",
              " 0.9007490636704121,\n",
              " 0.9002808988764046,\n",
              " 0.901685393258427,\n",
              " 0.9040262172284645,\n",
              " 0.9058988764044944,\n",
              " 0.9176029962546817,\n",
              " 0.9218164794007491,\n",
              " 0.9190074906367041,\n",
              " 0.9157303370786518,\n",
              " 0.9199438202247192,\n",
              " 0.9208801498127341,\n",
              " 0.9119850187265919,\n",
              " 0.9110486891385767,\n",
              " 0.9087078651685394,\n",
              " 0.9058988764044944,\n",
              " 0.9101123595505618,\n",
              " 0.9063670411985019,\n",
              " 0.9063670411985019,\n",
              " 0.9035580524344569,\n",
              " 0.9119850187265919,\n",
              " 0.9119850187265919,\n",
              " 0.9133895131086143,\n",
              " 0.9157303370786518,\n",
              " 0.9208801498127341,\n",
              " 0.9274344569288391,\n",
              " 0.9325842696629214,\n",
              " 0.9325842696629214,\n",
              " 0.9414794007490637,\n",
              " 0.9513108614232211,\n",
              " 0.9517790262172285,\n",
              " 0.952247191011236,\n",
              " 0.9555243445692885,\n",
              " 0.9573970037453183,\n",
              " 0.958801498127341,\n",
              " 0.9527153558052435,\n",
              " 0.9541198501872659,\n",
              " 0.955056179775281,\n",
              " 0.952247191011236,\n",
              " 0.9485018726591761,\n",
              " 0.9424157303370786,\n",
              " 0.9377340823970037,\n",
              " 0.9372659176029963,\n",
              " 0.9386704119850187,\n",
              " 0.9396067415730338,\n",
              " 0.9386704119850187,\n",
              " 0.9372659176029963,\n",
              " 0.9367977528089888,\n",
              " 0.9382022471910112,\n",
              " 0.9382022471910112,\n",
              " 0.9363295880149813,\n",
              " 0.9372659176029963,\n",
              " 0.9428838951310861,\n",
              " 0.9433520599250937,\n",
              " 0.9480337078651686,\n",
              " 0.9559925093632959,\n",
              " 0.9578651685393258,\n",
              " 0.9564606741573034,\n",
              " 0.9541198501872659,\n",
              " 0.9452247191011236,\n",
              " 0.9311797752808988,\n",
              " 0.9264981273408239,\n",
              " 0.9339887640449438,\n",
              " 0.9344569288389513,\n",
              " 0.9353932584269664,\n",
              " 0.9391385767790263,\n",
              " 0.9419475655430711,\n",
              " 0.9452247191011236,\n",
              " 0.9452247191011236,\n",
              " 0.9382022471910112,\n",
              " 0.9377340823970037,\n",
              " 0.9456928838951311,\n",
              " 0.9499063670411985,\n",
              " 0.9578651685393258,\n",
              " 0.9517790262172285,\n",
              " 0.9456928838951311,\n",
              " 0.949438202247191,\n",
              " 0.9541198501872659,\n",
              " 0.9531835205992509,\n",
              " 0.9602059925093633,\n",
              " 0.9616104868913857,\n",
              " 0.9592696629213484,\n",
              " 0.9602059925093633,\n",
              " 0.9555243445692885,\n",
              " 0.9616104868913857,\n",
              " 0.9620786516853932,\n",
              " 0.9648876404494382,\n",
              " 0.9653558052434457,\n",
              " 0.9681647940074907,\n",
              " 0.9817415730337078,\n",
              " 0.9798689138576779,\n",
              " 0.9794007490636705,\n",
              " 0.9798689138576779,\n",
              " 0.9906367041198503,\n",
              " 0.9995318352059925,\n",
              " 1.0,\n",
              " 0.9864232209737829]"
            ]
          },
          "metadata": {
            "tags": []
          },
          "execution_count": 135
        }
      ]
    }
  ]
}